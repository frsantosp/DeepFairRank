{
 "cells": [
  {
   "cell_type": "code",
   "execution_count": 59,
   "id": "initial_id",
   "metadata": {
    "collapsed": true,
    "ExecuteTime": {
     "end_time": "2024-02-09T03:53:58.770854Z",
     "start_time": "2024-02-09T03:53:58.743811Z"
    }
   },
   "outputs": [],
   "source": [
    "import pandas as pd\n",
    "\n",
    "data = 'ICLR2020'\n",
    "prt_attr = 'famous'\n",
    "class_attr = 'h_c'\n",
    "score_attr = 's'\n",
    "\n",
    "######################################################################\n",
    "# Configuration parameters\n",
    "######################################################################\n",
    "\n",
    "numBins = 10\n",
    "bin_width = 0.1\n",
    "score_norm = 10\n",
    "\n",
    "filename = 'data/' + data\n",
    "output_file = './results/' + data\n",
    "\n",
    "\n",
    "input_file = './data/' + data"
   ]
  },
  {
   "cell_type": "code",
   "execution_count": 60,
   "outputs": [],
   "source": [
    "def compute_acc(data,result, class_attr, column_name):\n",
    "    result[score_attr]=data[score_attr]\n",
    "    num_pos = data[data[class_attr]==1].shape[0]\n",
    "    print('N =', num_pos)\n",
    "    sort_h = result.sort_values(column_name, ascending=False)\n",
    "    sort_h = sort_h.reset_index()\n",
    "    topK = sort_h[:num_pos]\n",
    "    print('K =', topK.shape[0])\n",
    "    print('avg S =', topK[score_attr].mean()/score_norm)"
   ],
   "metadata": {
    "collapsed": false,
    "ExecuteTime": {
     "end_time": "2024-02-09T03:53:58.770934Z",
     "start_time": "2024-02-09T03:53:58.749450Z"
    }
   },
   "id": "4d460481f6b35fde"
  },
  {
   "cell_type": "code",
   "execution_count": 61,
   "outputs": [
    {
     "name": "stdout",
     "output_type": "stream",
     "text": [
      "No calibration\n",
      "N = 687\n",
      "K = 687\n",
      "avg S = 0.6414459000485202\n"
     ]
    }
   ],
   "source": [
    "print('No calibration')\n",
    "filename = input_file+'.csv'\n",
    "data = pd.read_csv(filename)\n",
    "filename = output_file+'_Nocal.csv'\n",
    "out_data = pd.read_csv(filename)\n",
    "compute_acc(data,out_data,class_attr,'h')"
   ],
   "metadata": {
    "collapsed": false,
    "ExecuteTime": {
     "end_time": "2024-02-09T03:53:58.775629Z",
     "start_time": "2024-02-09T03:53:58.752613Z"
    }
   },
   "id": "89f0f12337d3a7ed"
  },
  {
   "cell_type": "code",
   "execution_count": 62,
   "outputs": [
    {
     "name": "stdout",
     "output_type": "stream",
     "text": [
      "FairTopK\n",
      "N = 687\n",
      "K = 687\n",
      "avg S = 0.6413245997088792\n"
     ]
    }
   ],
   "source": [
    "print('FairTopK')\n",
    "filename = input_file+'.csv'\n",
    "data = pd.read_csv(filename)\n",
    "filename = output_file+'_FairTopk.csv'\n",
    "out_data = pd.read_csv(filename)\n",
    "compute_acc(data,out_data,class_attr,'h')"
   ],
   "metadata": {
    "collapsed": false,
    "ExecuteTime": {
     "end_time": "2024-02-09T03:53:58.775700Z",
     "start_time": "2024-02-09T03:53:58.760696Z"
    }
   },
   "id": "b468c11bcae318a5"
  },
  {
   "cell_type": "code",
   "execution_count": 63,
   "outputs": [
    {
     "name": "stdout",
     "output_type": "stream",
     "text": [
      "InFoRM\n",
      "N = 687\n",
      "K = 687\n",
      "avg S = 0.47270014556040757\n"
     ]
    }
   ],
   "source": [
    "print('InFoRM')\n",
    "filename = input_file+'.csv'\n",
    "data = pd.read_csv(filename)\n",
    "filename = output_file+'_INFORM.csv'\n",
    "out_data = pd.read_csv(filename)\n",
    "compute_acc(data,out_data,class_attr,'h')"
   ],
   "metadata": {
    "collapsed": false,
    "ExecuteTime": {
     "end_time": "2024-02-09T03:53:58.776586Z",
     "start_time": "2024-02-09T03:53:58.768141Z"
    }
   },
   "id": "b268f8d1fbbf2e69"
  },
  {
   "cell_type": "code",
   "execution_count": 64,
   "outputs": [
    {
     "name": "stdout",
     "output_type": "stream",
     "text": [
      "FSPR\n",
      "N = 687\n",
      "K = 687\n",
      "avg S = 0.6029500242600678\n"
     ]
    }
   ],
   "source": [
    "print('FSPR')\n",
    "filename = input_file+'.csv'\n",
    "data = pd.read_csv(filename)\n",
    "filename = output_file+'_FSPR.csv'\n",
    "out_data = pd.read_csv(filename)\n",
    "compute_acc(data,out_data,class_attr,'h')"
   ],
   "metadata": {
    "collapsed": false,
    "ExecuteTime": {
     "end_time": "2024-02-09T03:53:58.780129Z",
     "start_time": "2024-02-09T03:53:58.774610Z"
    }
   },
   "id": "cb34358812f7243"
  },
  {
   "cell_type": "code",
   "execution_count": 65,
   "outputs": [
    {
     "name": "stdout",
     "output_type": "stream",
     "text": [
      "DeepFairRank\n",
      "N = 687\n",
      "K = 687\n",
      "avg S = 0.6414459000485202\n"
     ]
    }
   ],
   "source": [
    "print('DeepFairRank')\n",
    "filename = input_file+'.csv'\n",
    "data = pd.read_csv(filename)\n",
    "filename = output_file+'_DFR.csv'\n",
    "out_data = pd.read_csv(filename)\n",
    "compute_acc(data,out_data,class_attr,'h')"
   ],
   "metadata": {
    "collapsed": false,
    "ExecuteTime": {
     "end_time": "2024-02-09T03:53:58.785759Z",
     "start_time": "2024-02-09T03:53:58.780636Z"
    }
   },
   "id": "604a4f32c7f36e77"
  },
  {
   "cell_type": "code",
   "execution_count": 65,
   "outputs": [],
   "source": [],
   "metadata": {
    "collapsed": false,
    "ExecuteTime": {
     "end_time": "2024-02-09T03:53:58.786998Z",
     "start_time": "2024-02-09T03:53:58.785940Z"
    }
   },
   "id": "5dbb338b1ecab75c"
  }
 ],
 "metadata": {
  "kernelspec": {
   "display_name": "Python 3",
   "language": "python",
   "name": "python3"
  },
  "language_info": {
   "codemirror_mode": {
    "name": "ipython",
    "version": 2
   },
   "file_extension": ".py",
   "mimetype": "text/x-python",
   "name": "python",
   "nbconvert_exporter": "python",
   "pygments_lexer": "ipython2",
   "version": "2.7.6"
  }
 },
 "nbformat": 4,
 "nbformat_minor": 5
}
