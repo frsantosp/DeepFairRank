{
 "cells": [
  {
   "cell_type": "markdown",
   "source": [
    "### Check Adjecency Matrix"
   ],
   "metadata": {
    "collapsed": false
   }
  },
  {
   "cell_type": "code",
   "execution_count": 2,
   "metadata": {
    "collapsed": true
   },
   "outputs": [
    {
     "data": {
      "text/plain": "          id               name    first        last compas_screening_date  \\\n0          1   miguel hernandez   miguel   hernandez            2013-08-14   \n1          3        kevon dixon    kevon       dixon            2013-01-27   \n2          4           ed philo       ed       philo            2013-04-14   \n3          7       marsha miles   marsha       miles            2013-11-30   \n4          8      edward riddle   edward      riddle            2014-02-19   \n...      ...                ...      ...         ...                   ...   \n10562  11752   rodrick phillips  rodrick    phillips            2013-02-27   \n10563  11753   patrick hamilton  patrick    hamilton            2013-09-22   \n10564  11754  raymond hernandez  raymond   hernandez            2013-05-17   \n10565  11756   scott lomagistro    scott  lomagistro            2013-12-03   \n10566  11757           chin yan     chin         yan            2014-01-11   \n\n        sex         dob  age          age_cat              race  ...  \\\n0      Male  1947-04-18   69  Greater than 45             Other  ...   \n1      Male  1982-01-22   34          25 - 45  African-American  ...   \n2      Male  1991-05-14   24     Less than 25  African-American  ...   \n3      Male  1971-08-22   44          25 - 45             Other  ...   \n4      Male  1974-07-23   41          25 - 45         Caucasian  ...   \n...     ...         ...  ...              ...               ...  ...   \n10562  Male  1953-02-24   63  Greater than 45  African-American  ...   \n10563  Male  1968-05-02   47  Greater than 45             Other  ...   \n10564  Male  1993-06-24   22     Less than 25         Caucasian  ...   \n10565  Male  1986-12-04   29          25 - 45         Caucasian  ...   \n10566  Male  1982-02-19   34          25 - 45             Asian  ...   \n\n       vr_offense_date               vr_charge_desc  v_type_of_assessment  \\\n0                  NaN                          NaN      Risk of Violence   \n1           2013-07-05  Felony Battery (Dom Strang)      Risk of Violence   \n2                  NaN                          NaN      Risk of Violence   \n3                  NaN                          NaN      Risk of Violence   \n4                  NaN                          NaN      Risk of Violence   \n...                ...                          ...                   ...   \n10562              NaN                          NaN      Risk of Violence   \n10563              NaN                          NaN      Risk of Violence   \n10564              NaN                          NaN      Risk of Violence   \n10565              NaN                          NaN      Risk of Violence   \n10566              NaN                          NaN      Risk of Violence   \n\n       v_decile_score  v_score_text  v_screening_date  type_of_assessment  \\\n0                   1           Low        2013-08-14  Risk of Recidivism   \n1                   1           Low        2013-01-27  Risk of Recidivism   \n2                   3           Low        2013-04-14  Risk of Recidivism   \n3                   1           Low        2013-11-30  Risk of Recidivism   \n4                   2           Low        2014-02-19  Risk of Recidivism   \n...               ...           ...               ...                 ...   \n10562               1           Low        2013-02-27  Risk of Recidivism   \n10563               1           Low        2013-09-22  Risk of Recidivism   \n10564               5        Medium        2013-05-17  Risk of Recidivism   \n10565               2           Low        2013-12-03  Risk of Recidivism   \n10566               1           Low        2014-01-11  Risk of Recidivism   \n\n      decile_score.1 score_text screening_date  \n0                  1        Low     2013-08-14  \n1                  3        Low     2013-01-27  \n2                  4        Low     2013-04-14  \n3                  1        Low     2013-11-30  \n4                  6     Medium     2014-02-19  \n...              ...        ...            ...  \n10562              1        Low     2013-02-27  \n10563              3        Low     2013-09-22  \n10564              7     Medium     2013-05-17  \n10565              3        Low     2013-12-03  \n10566              1        Low     2014-01-11  \n\n[10567 rows x 47 columns]",
      "text/html": "<div>\n<style scoped>\n    .dataframe tbody tr th:only-of-type {\n        vertical-align: middle;\n    }\n\n    .dataframe tbody tr th {\n        vertical-align: top;\n    }\n\n    .dataframe thead th {\n        text-align: right;\n    }\n</style>\n<table border=\"1\" class=\"dataframe\">\n  <thead>\n    <tr style=\"text-align: right;\">\n      <th></th>\n      <th>id</th>\n      <th>name</th>\n      <th>first</th>\n      <th>last</th>\n      <th>compas_screening_date</th>\n      <th>sex</th>\n      <th>dob</th>\n      <th>age</th>\n      <th>age_cat</th>\n      <th>race</th>\n      <th>...</th>\n      <th>vr_offense_date</th>\n      <th>vr_charge_desc</th>\n      <th>v_type_of_assessment</th>\n      <th>v_decile_score</th>\n      <th>v_score_text</th>\n      <th>v_screening_date</th>\n      <th>type_of_assessment</th>\n      <th>decile_score.1</th>\n      <th>score_text</th>\n      <th>screening_date</th>\n    </tr>\n  </thead>\n  <tbody>\n    <tr>\n      <th>0</th>\n      <td>1</td>\n      <td>miguel hernandez</td>\n      <td>miguel</td>\n      <td>hernandez</td>\n      <td>2013-08-14</td>\n      <td>Male</td>\n      <td>1947-04-18</td>\n      <td>69</td>\n      <td>Greater than 45</td>\n      <td>Other</td>\n      <td>...</td>\n      <td>NaN</td>\n      <td>NaN</td>\n      <td>Risk of Violence</td>\n      <td>1</td>\n      <td>Low</td>\n      <td>2013-08-14</td>\n      <td>Risk of Recidivism</td>\n      <td>1</td>\n      <td>Low</td>\n      <td>2013-08-14</td>\n    </tr>\n    <tr>\n      <th>1</th>\n      <td>3</td>\n      <td>kevon dixon</td>\n      <td>kevon</td>\n      <td>dixon</td>\n      <td>2013-01-27</td>\n      <td>Male</td>\n      <td>1982-01-22</td>\n      <td>34</td>\n      <td>25 - 45</td>\n      <td>African-American</td>\n      <td>...</td>\n      <td>2013-07-05</td>\n      <td>Felony Battery (Dom Strang)</td>\n      <td>Risk of Violence</td>\n      <td>1</td>\n      <td>Low</td>\n      <td>2013-01-27</td>\n      <td>Risk of Recidivism</td>\n      <td>3</td>\n      <td>Low</td>\n      <td>2013-01-27</td>\n    </tr>\n    <tr>\n      <th>2</th>\n      <td>4</td>\n      <td>ed philo</td>\n      <td>ed</td>\n      <td>philo</td>\n      <td>2013-04-14</td>\n      <td>Male</td>\n      <td>1991-05-14</td>\n      <td>24</td>\n      <td>Less than 25</td>\n      <td>African-American</td>\n      <td>...</td>\n      <td>NaN</td>\n      <td>NaN</td>\n      <td>Risk of Violence</td>\n      <td>3</td>\n      <td>Low</td>\n      <td>2013-04-14</td>\n      <td>Risk of Recidivism</td>\n      <td>4</td>\n      <td>Low</td>\n      <td>2013-04-14</td>\n    </tr>\n    <tr>\n      <th>3</th>\n      <td>7</td>\n      <td>marsha miles</td>\n      <td>marsha</td>\n      <td>miles</td>\n      <td>2013-11-30</td>\n      <td>Male</td>\n      <td>1971-08-22</td>\n      <td>44</td>\n      <td>25 - 45</td>\n      <td>Other</td>\n      <td>...</td>\n      <td>NaN</td>\n      <td>NaN</td>\n      <td>Risk of Violence</td>\n      <td>1</td>\n      <td>Low</td>\n      <td>2013-11-30</td>\n      <td>Risk of Recidivism</td>\n      <td>1</td>\n      <td>Low</td>\n      <td>2013-11-30</td>\n    </tr>\n    <tr>\n      <th>4</th>\n      <td>8</td>\n      <td>edward riddle</td>\n      <td>edward</td>\n      <td>riddle</td>\n      <td>2014-02-19</td>\n      <td>Male</td>\n      <td>1974-07-23</td>\n      <td>41</td>\n      <td>25 - 45</td>\n      <td>Caucasian</td>\n      <td>...</td>\n      <td>NaN</td>\n      <td>NaN</td>\n      <td>Risk of Violence</td>\n      <td>2</td>\n      <td>Low</td>\n      <td>2014-02-19</td>\n      <td>Risk of Recidivism</td>\n      <td>6</td>\n      <td>Medium</td>\n      <td>2014-02-19</td>\n    </tr>\n    <tr>\n      <th>...</th>\n      <td>...</td>\n      <td>...</td>\n      <td>...</td>\n      <td>...</td>\n      <td>...</td>\n      <td>...</td>\n      <td>...</td>\n      <td>...</td>\n      <td>...</td>\n      <td>...</td>\n      <td>...</td>\n      <td>...</td>\n      <td>...</td>\n      <td>...</td>\n      <td>...</td>\n      <td>...</td>\n      <td>...</td>\n      <td>...</td>\n      <td>...</td>\n      <td>...</td>\n      <td>...</td>\n    </tr>\n    <tr>\n      <th>10562</th>\n      <td>11752</td>\n      <td>rodrick phillips</td>\n      <td>rodrick</td>\n      <td>phillips</td>\n      <td>2013-02-27</td>\n      <td>Male</td>\n      <td>1953-02-24</td>\n      <td>63</td>\n      <td>Greater than 45</td>\n      <td>African-American</td>\n      <td>...</td>\n      <td>NaN</td>\n      <td>NaN</td>\n      <td>Risk of Violence</td>\n      <td>1</td>\n      <td>Low</td>\n      <td>2013-02-27</td>\n      <td>Risk of Recidivism</td>\n      <td>1</td>\n      <td>Low</td>\n      <td>2013-02-27</td>\n    </tr>\n    <tr>\n      <th>10563</th>\n      <td>11753</td>\n      <td>patrick hamilton</td>\n      <td>patrick</td>\n      <td>hamilton</td>\n      <td>2013-09-22</td>\n      <td>Male</td>\n      <td>1968-05-02</td>\n      <td>47</td>\n      <td>Greater than 45</td>\n      <td>Other</td>\n      <td>...</td>\n      <td>NaN</td>\n      <td>NaN</td>\n      <td>Risk of Violence</td>\n      <td>1</td>\n      <td>Low</td>\n      <td>2013-09-22</td>\n      <td>Risk of Recidivism</td>\n      <td>3</td>\n      <td>Low</td>\n      <td>2013-09-22</td>\n    </tr>\n    <tr>\n      <th>10564</th>\n      <td>11754</td>\n      <td>raymond hernandez</td>\n      <td>raymond</td>\n      <td>hernandez</td>\n      <td>2013-05-17</td>\n      <td>Male</td>\n      <td>1993-06-24</td>\n      <td>22</td>\n      <td>Less than 25</td>\n      <td>Caucasian</td>\n      <td>...</td>\n      <td>NaN</td>\n      <td>NaN</td>\n      <td>Risk of Violence</td>\n      <td>5</td>\n      <td>Medium</td>\n      <td>2013-05-17</td>\n      <td>Risk of Recidivism</td>\n      <td>7</td>\n      <td>Medium</td>\n      <td>2013-05-17</td>\n    </tr>\n    <tr>\n      <th>10565</th>\n      <td>11756</td>\n      <td>scott lomagistro</td>\n      <td>scott</td>\n      <td>lomagistro</td>\n      <td>2013-12-03</td>\n      <td>Male</td>\n      <td>1986-12-04</td>\n      <td>29</td>\n      <td>25 - 45</td>\n      <td>Caucasian</td>\n      <td>...</td>\n      <td>NaN</td>\n      <td>NaN</td>\n      <td>Risk of Violence</td>\n      <td>2</td>\n      <td>Low</td>\n      <td>2013-12-03</td>\n      <td>Risk of Recidivism</td>\n      <td>3</td>\n      <td>Low</td>\n      <td>2013-12-03</td>\n    </tr>\n    <tr>\n      <th>10566</th>\n      <td>11757</td>\n      <td>chin yan</td>\n      <td>chin</td>\n      <td>yan</td>\n      <td>2014-01-11</td>\n      <td>Male</td>\n      <td>1982-02-19</td>\n      <td>34</td>\n      <td>25 - 45</td>\n      <td>Asian</td>\n      <td>...</td>\n      <td>NaN</td>\n      <td>NaN</td>\n      <td>Risk of Violence</td>\n      <td>1</td>\n      <td>Low</td>\n      <td>2014-01-11</td>\n      <td>Risk of Recidivism</td>\n      <td>1</td>\n      <td>Low</td>\n      <td>2014-01-11</td>\n    </tr>\n  </tbody>\n</table>\n<p>10567 rows × 47 columns</p>\n</div>"
     },
     "execution_count": 2,
     "metadata": {},
     "output_type": "execute_result"
    }
   ],
   "source": [
    "import numpy as np\n",
    "import pandas as pd\n",
    "\n",
    "adj = np.load('adj_matrix.npy')\n",
    "df = pd.read_csv('compas-scores.csv')\n",
    "df = df[df['is_recid']!=-1]\n",
    "df = df[df['decile_score']!=-1]\n",
    "df = df.dropna(axis=0,subset=['c_jail_in'])\n",
    "df = df.dropna(axis=0,subset=['c_jail_out'])\n",
    "df = df.reset_index()\n",
    "df = df.drop(columns=['index'])\n",
    "df"
   ]
  },
  {
   "cell_type": "code",
   "execution_count": 3,
   "outputs": [
    {
     "name": "stdout",
     "output_type": "stream",
     "text": [
      "(array([   29,    87,    93,    96,   155,   168,   224,   243,   269,\n",
      "         282,   288,   298,   309,   312,   385,   408,   417,   447,\n",
      "         531,   540,   550,   567,   626,   636,   668,   680,   708,\n",
      "         769,   804,   831,   847,   865,   934,   959,   972,  1007,\n",
      "        1041,  1044,  1079,  1081,  1082,  1110,  1152,  1192,  1208,\n",
      "        1267,  1286,  1315,  1329,  1418,  1508,  1520,  1539,  1557,\n",
      "        1566,  1576,  1592,  1633,  1660,  1670,  1693,  1711,  1714,\n",
      "        1718,  1732,  1759,  1765,  1816,  1829,  1830,  1832,  1835,\n",
      "        1836,  1874,  1908,  1927,  1929,  1974,  2001,  2007,  2015,\n",
      "        2099,  2120,  2125,  2131,  2150,  2202,  2204,  2228,  2294,\n",
      "        2300,  2318,  2330,  2404,  2467,  2583,  2612,  2628,  2635,\n",
      "        2636,  2660,  2689,  2696,  2713,  2755,  2790,  2837,  2866,\n",
      "        2902,  2917,  2984,  2987,  3023,  3026,  3030,  3064,  3067,\n",
      "        3080,  3098,  3112,  3123,  3217,  3221,  3228,  3239,  3250,\n",
      "        3343,  3360,  3406,  3422,  3427,  3515,  3607,  3636,  3713,\n",
      "        3778,  3802,  3862,  3867,  3876,  3901,  3973,  4004,  4036,\n",
      "        4085,  4090,  4114,  4119,  4124,  4147,  4285,  4330,  4334,\n",
      "        4346,  4360,  4411,  4420,  4440,  4474,  4514,  4536,  4558,\n",
      "        4565,  4598,  4617,  4618,  4633,  4638,  4684,  4729,  4763,\n",
      "        4793,  4849,  4869,  4879,  4911,  4951,  4987,  4994,  4995,\n",
      "        5000,  5008,  5032,  5063,  5110,  5111,  5117,  5124,  5220,\n",
      "        5230,  5273,  5279,  5284,  5292,  5319,  5344,  5352,  5385,\n",
      "        5396,  5411,  5417,  5420,  5460,  5469,  5480,  5527,  5544,\n",
      "        5568,  5587,  5595,  5655,  5674,  5688,  5769,  5770,  5797,\n",
      "        5852,  5855,  5951,  6008,  6038,  6067,  6071,  6078,  6102,\n",
      "        6115,  6117,  6118,  6129,  6155,  6186,  6268,  6277,  6280,\n",
      "        6283,  6291,  6342,  6343,  6348,  6380,  6383,  6399,  6450,\n",
      "        6467,  6542,  6557,  6586,  6587,  6654,  6683,  6792,  6818,\n",
      "        6825,  6865,  6891,  6894,  6902,  6920,  6934,  6945,  6961,\n",
      "        6980,  6984,  7011,  7070,  7202,  7242,  7260,  7294,  7305,\n",
      "        7326,  7376,  7403,  7482,  7525,  7528,  7538,  7558,  7606,\n",
      "        7621,  7632,  7666,  7686,  7744,  7788,  7791,  7792,  7804,\n",
      "        7812,  7850,  7851,  7889,  7894,  7903,  7926,  7929,  7971,\n",
      "        7985,  7995,  8008,  8020,  8032,  8053,  8067,  8083,  8104,\n",
      "        8135,  8155,  8164,  8167,  8183,  8197,  8275,  8313,  8341,\n",
      "        8344,  8351,  8358,  8414,  8426,  8470,  8472,  8504,  8519,\n",
      "        8552,  8568,  8577,  8584,  8588,  8598,  8599,  8615,  8626,\n",
      "        8725,  8744,  8747,  8768,  8811,  8815,  8827,  8854,  8883,\n",
      "        8891,  8900,  8955,  8999,  9003,  9007,  9075,  9078,  9080,\n",
      "        9100,  9126,  9242,  9258,  9304,  9334,  9409,  9414,  9467,\n",
      "        9510,  9512,  9529,  9545,  9548,  9567,  9576,  9619,  9621,\n",
      "        9714,  9715,  9735,  9742,  9752,  9777,  9788,  9878,  9910,\n",
      "        9924,  9973,  9999, 10012, 10032, 10041, 10087, 10110, 10122,\n",
      "       10202, 10221, 10228, 10232, 10243, 10253, 10304, 10315, 10412,\n",
      "       10431, 10439, 10469, 10490, 10503, 10555]),)\n"
     ]
    }
   ],
   "source": [
    "a = adj[0,:]\n",
    "print(np.where(a == 1))"
   ],
   "metadata": {
    "collapsed": false
   }
  },
  {
   "cell_type": "code",
   "execution_count": 10,
   "outputs": [
    {
     "name": "stdout",
     "output_type": "stream",
     "text": [
      "c_jail_in     2013-08-13 06:03:42\n",
      "c_jail_out    2013-08-14 05:41:20\n",
      "Name: 0, dtype: object\n",
      "c_jail_in     2013-05-23 01:31:00\n",
      "c_jail_out    2013-09-24 06:24:21\n",
      "Name: 87, dtype: object\n",
      "c_jail_in     2014-07-30 02:23:25\n",
      "c_jail_out    2014-07-30 07:49:14\n",
      "Name: 86, dtype: object\n",
      "c_jail_in     2013-05-23 07:25:37\n",
      "c_jail_out    2013-09-11 05:51:06\n",
      "Name: 29, dtype: object\n",
      "c_jail_in     2014-08-21 03:56:39\n",
      "c_jail_out    2014-08-21 08:30:05\n",
      "Name: 30, dtype: object\n",
      "c_jail_in     2013-01-08 06:02:56\n",
      "c_jail_out    2013-10-25 08:31:58\n",
      "Name: 2635, dtype: object\n",
      "c_jail_in     2013-08-18 07:29:15\n",
      "c_jail_out    2013-09-05 04:16:47\n",
      "Name: 2634, dtype: object\n"
     ]
    }
   ],
   "source": [
    "print(df.iloc[0,16:18])\n",
    "print(df.iloc[87,16:18])\n",
    "print(df.iloc[86,16:18])\n",
    "print(df.iloc[29,16:18])\n",
    "print(df.iloc[30,16:18])\n",
    "print(df.iloc[2635,16:18])\n",
    "print(df.iloc[2634,16:18])"
   ],
   "metadata": {
    "collapsed": false
   }
  },
  {
   "cell_type": "markdown",
   "source": [
    "### Check Node features"
   ],
   "metadata": {
    "collapsed": false
   }
  },
  {
   "cell_type": "code",
   "execution_count": 11,
   "outputs": [
    {
     "data": {
      "text/plain": "          id  race  decile_score  is_recid\n0          0     6             1         0\n1          1     1             3         1\n2          2     1             4         1\n3          3     6             1         0\n4          4     3             6         1\n...      ...   ...           ...       ...\n10562  10562     1             1         1\n10563  10563     6             3         0\n10564  10564     3             7         1\n10565  10565     3             3         0\n10566  10566     2             1         0\n\n[10567 rows x 4 columns]",
      "text/html": "<div>\n<style scoped>\n    .dataframe tbody tr th:only-of-type {\n        vertical-align: middle;\n    }\n\n    .dataframe tbody tr th {\n        vertical-align: top;\n    }\n\n    .dataframe thead th {\n        text-align: right;\n    }\n</style>\n<table border=\"1\" class=\"dataframe\">\n  <thead>\n    <tr style=\"text-align: right;\">\n      <th></th>\n      <th>id</th>\n      <th>race</th>\n      <th>decile_score</th>\n      <th>is_recid</th>\n    </tr>\n  </thead>\n  <tbody>\n    <tr>\n      <th>0</th>\n      <td>0</td>\n      <td>6</td>\n      <td>1</td>\n      <td>0</td>\n    </tr>\n    <tr>\n      <th>1</th>\n      <td>1</td>\n      <td>1</td>\n      <td>3</td>\n      <td>1</td>\n    </tr>\n    <tr>\n      <th>2</th>\n      <td>2</td>\n      <td>1</td>\n      <td>4</td>\n      <td>1</td>\n    </tr>\n    <tr>\n      <th>3</th>\n      <td>3</td>\n      <td>6</td>\n      <td>1</td>\n      <td>0</td>\n    </tr>\n    <tr>\n      <th>4</th>\n      <td>4</td>\n      <td>3</td>\n      <td>6</td>\n      <td>1</td>\n    </tr>\n    <tr>\n      <th>...</th>\n      <td>...</td>\n      <td>...</td>\n      <td>...</td>\n      <td>...</td>\n    </tr>\n    <tr>\n      <th>10562</th>\n      <td>10562</td>\n      <td>1</td>\n      <td>1</td>\n      <td>1</td>\n    </tr>\n    <tr>\n      <th>10563</th>\n      <td>10563</td>\n      <td>6</td>\n      <td>3</td>\n      <td>0</td>\n    </tr>\n    <tr>\n      <th>10564</th>\n      <td>10564</td>\n      <td>3</td>\n      <td>7</td>\n      <td>1</td>\n    </tr>\n    <tr>\n      <th>10565</th>\n      <td>10565</td>\n      <td>3</td>\n      <td>3</td>\n      <td>0</td>\n    </tr>\n    <tr>\n      <th>10566</th>\n      <td>10566</td>\n      <td>2</td>\n      <td>1</td>\n      <td>0</td>\n    </tr>\n  </tbody>\n</table>\n<p>10567 rows × 4 columns</p>\n</div>"
     },
     "execution_count": 11,
     "metadata": {},
     "output_type": "execute_result"
    }
   ],
   "source": [
    "data = pd.read_csv('compas_clean.csv')\n",
    "data"
   ],
   "metadata": {
    "collapsed": false
   }
  },
  {
   "cell_type": "code",
   "execution_count": 12,
   "outputs": [
    {
     "data": {
      "text/plain": "1     617\n2     572\n7     555\n6     533\n4     532\n9     523\n8     511\n3     502\n5     484\n10    421\nName: decile_score, dtype: int64"
     },
     "execution_count": 12,
     "metadata": {},
     "output_type": "execute_result"
    }
   ],
   "source": [
    "df[df['race']=='African-American']['decile_score'].value_counts()"
   ],
   "metadata": {
    "collapsed": false
   }
  },
  {
   "cell_type": "code",
   "execution_count": 13,
   "outputs": [
    {
     "data": {
      "text/plain": "1     617\n2     572\n7     555\n6     533\n4     532\n9     523\n8     511\n3     502\n5     484\n10    421\nName: decile_score, dtype: int64"
     },
     "execution_count": 13,
     "metadata": {},
     "output_type": "execute_result"
    }
   ],
   "source": [
    "data[data['race']==1]['decile_score'].value_counts()"
   ],
   "metadata": {
    "collapsed": false
   }
  },
  {
   "cell_type": "code",
   "execution_count": 14,
   "outputs": [
    {
     "data": {
      "text/plain": "0    3116\n1    2134\nName: is_recid, dtype: int64"
     },
     "execution_count": 14,
     "metadata": {},
     "output_type": "execute_result"
    }
   ],
   "source": [
    "df[df['race']=='African-American']['is_recid'].value_counts()"
   ],
   "metadata": {
    "collapsed": false
   }
  },
  {
   "cell_type": "code",
   "execution_count": 15,
   "outputs": [
    {
     "data": {
      "text/plain": "0    3116\n1    2134\nName: is_recid, dtype: int64"
     },
     "execution_count": 15,
     "metadata": {},
     "output_type": "execute_result"
    }
   ],
   "source": [
    "data[data['race']==1]['is_recid'].value_counts()"
   ],
   "metadata": {
    "collapsed": false
   }
  },
  {
   "cell_type": "code",
   "execution_count": 16,
   "outputs": [
    {
     "data": {
      "text/plain": "1     1056\n2      557\n3      435\n4      415\n5      348\n6      272\n7      207\n8      165\n9      153\n10      88\nName: decile_score, dtype: int64"
     },
     "execution_count": 16,
     "metadata": {},
     "output_type": "execute_result"
    }
   ],
   "source": [
    "df[df['race']=='Caucasian']['decile_score'].value_counts()"
   ],
   "metadata": {
    "collapsed": false
   }
  },
  {
   "cell_type": "code",
   "execution_count": 17,
   "outputs": [
    {
     "data": {
      "text/plain": "1     1056\n2      557\n3      435\n4      415\n5      348\n6      272\n7      207\n8      165\n9      153\n10      88\nName: decile_score, dtype: int64"
     },
     "execution_count": 17,
     "metadata": {},
     "output_type": "execute_result"
    }
   ],
   "source": [
    "data[data['race']==3]['decile_score'].value_counts()"
   ],
   "metadata": {
    "collapsed": false
   }
  },
  {
   "cell_type": "code",
   "execution_count": 18,
   "outputs": [
    {
     "data": {
      "text/plain": "0    2618\n1    1078\nName: is_recid, dtype: int64"
     },
     "execution_count": 18,
     "metadata": {},
     "output_type": "execute_result"
    }
   ],
   "source": [
    "df[df['race']=='Caucasian']['is_recid'].value_counts()"
   ],
   "metadata": {
    "collapsed": false
   }
  },
  {
   "cell_type": "code",
   "execution_count": 19,
   "outputs": [
    {
     "data": {
      "text/plain": "0    2618\n1    1078\nName: is_recid, dtype: int64"
     },
     "execution_count": 19,
     "metadata": {},
     "output_type": "execute_result"
    }
   ],
   "source": [
    "data[data['race']==3]['is_recid'].value_counts()"
   ],
   "metadata": {
    "collapsed": false
   }
  },
  {
   "cell_type": "code",
   "execution_count": 23,
   "outputs": [
    {
     "name": "stdout",
     "output_type": "stream",
     "text": [
      "Local cdn resources have problems on chrome/safari when used in jupyter-notebook. \n",
      "Adding edges\n"
     ]
    }
   ],
   "source": [
    "import networkx as nx\n",
    "from pyvis import network as net\n",
    "\n",
    "adj = np.load('adj_matrix_2.npy')\n",
    "\n",
    "\n",
    "N = net.Network('500px', '1000px', notebook=True, bgcolor='black')\n",
    "\n",
    "for i in range(adj.shape[0]):\n",
    "    N.add_node(i)\n",
    "\n",
    "rows, cols = np.where(adj == 1)\n",
    "print(\"Adding edges\")\n",
    "for i in range(rows.shape[0]):\n",
    "    N.add_edge(rows[i],cols[i], color='white')\n",
    "    if i > 500:\n",
    "        break"
   ],
   "metadata": {
    "collapsed": false
   }
  },
  {
   "cell_type": "code",
   "execution_count": 25,
   "outputs": [],
   "source": [
    "import matplotlib.pyplot as plt\n",
    "\n",
    "g = nx.empty_graph(data.shape[0])\n",
    "adj = np.load(\"adj_matrix_2.npy\")\n",
    "rows, cols = np.where(adj == 1)\n",
    "edges = zip(rows.tolist(), cols.tolist())\n",
    "gr = nx.Graph()\n",
    "gr.add_edges_from(edges)\n",
    "\n",
    "nx.draw(gr, node_size=adj.shape[0])\n",
    "plt.show()"
   ],
   "metadata": {
    "collapsed": false
   }
  }
 ],
 "metadata": {
  "kernelspec": {
   "display_name": "Python 3",
   "language": "python",
   "name": "python3"
  },
  "language_info": {
   "codemirror_mode": {
    "name": "ipython",
    "version": 2
   },
   "file_extension": ".py",
   "mimetype": "text/x-python",
   "name": "python",
   "nbconvert_exporter": "python",
   "pygments_lexer": "ipython2",
   "version": "2.7.6"
  }
 },
 "nbformat": 4,
 "nbformat_minor": 0
}
