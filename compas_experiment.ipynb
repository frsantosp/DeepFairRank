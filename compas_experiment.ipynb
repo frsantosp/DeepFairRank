{
 "cells": [
  {
   "cell_type": "code",
   "execution_count": 1,
   "metadata": {
    "collapsed": true
   },
   "outputs": [],
   "source": [
    "from codes.data_loader import load_data_compass\n",
    "import numpy as np\n",
    "import pandas as pd\n",
    "import networkx as nx\n",
    "import cvxpy as cp\n",
    "\n",
    "\n",
    "from codes.alg import FPRank, MaxPerception\n",
    "from codes.metrics import evaluate"
   ]
  },
  {
   "cell_type": "markdown",
   "source": [
    "### FPRank Results"
   ],
   "metadata": {
    "collapsed": false
   }
  },
  {
   "cell_type": "code",
   "execution_count": 2,
   "outputs": [
    {
     "name": "stdout",
     "output_type": "stream",
     "text": [
      "(8946,)\n",
      "(8946,)\n",
      "(8946, 8946)\n",
      "(8946,)\n"
     ]
    },
    {
     "name": "stderr",
     "output_type": "stream",
     "text": [
      "  0%|          | 0/10 [00:00<?, ?it/s]"
     ]
    },
    {
     "name": "stdout",
     "output_type": "stream",
     "text": [
      "****Compas****\n"
     ]
    },
    {
     "name": "stderr",
     "output_type": "stream",
     "text": [
      "100%|██████████| 10/10 [2:42:44<00:00, 976.44s/it]  \n"
     ]
    },
    {
     "name": "stdout",
     "output_type": "stream",
     "text": [
      "    Race\n",
      "   average precision: 0.5105 |  weighted statistical disparity: : 0.0000 | Visibility: 0.4164\n"
     ]
    }
   ],
   "source": [
    "filename = \"compas_clean_2.csv\"\n",
    "file_adj = \"adj_matrix_2.npy\"\n",
    "\n",
    "adj, s , h_c , prt_f, W = load_data_compass(filename,file_adj)\n",
    "print('****Compas****')\n",
    "h  = FPRank(W,s,h_c,prt_f)\n",
    "print('    Race')\n",
    "evaluate(h,h_c,s,prt_f, W)"
   ],
   "metadata": {
    "collapsed": false
   }
  },
  {
   "cell_type": "code",
   "execution_count": 3,
   "outputs": [
    {
     "name": "stdout",
     "output_type": "stream",
     "text": [
      "Max perception\n",
      "    Race\n",
      "   average precision: 0.3284 |  weighted statistical disparity: : 0.0008 | Visibility: 0.4327\n"
     ]
    }
   ],
   "source": [
    "print('Max perception')\n",
    "h  = MaxPerception(W,s,h_c,prt_f)\n",
    "print('    Race')\n",
    "evaluate(h,h_c,s,prt_f, W)"
   ],
   "metadata": {
    "collapsed": false
   }
  },
  {
   "cell_type": "markdown",
   "source": [
    "### Other baseline results"
   ],
   "metadata": {
    "collapsed": false
   }
  },
  {
   "cell_type": "code",
   "execution_count": 3,
   "outputs": [],
   "source": [
    "for i,baseline in enumerate(['NO Calibration','ROC(SPD)', 'ROC(EOD)', 'CPP(FPR)','FairTopK']):\n",
    "    print(40*'*')\n",
    "    print(baseline)\n",
    "    adj, s , h_c , prt_f, W = load_data_compass(filename,file_adj)\n",
    "    prt ='race'\n",
    "    print('    {}'.format(prt))\n",
    "    if not(baseline == 'NO Calibration'):\n",
    "        if 'sample' in filename:\n",
    "            h = pd.read_csv('./data/Baseline/Compas_sample_{}.csv'.format(baseline))['h'].to_numpy()\n",
    "        else:\n",
    "            h = pd.read_csv('./data/Baseline/Compas_{}.csv'.format(baseline))['h'].to_numpy()\n",
    "\n",
    "    if baseline == 'NO Calibration':\n",
    "        evaluate(s,h_c,s,prt_f, W)\n",
    "    else:\n",
    "        evaluate(h,h_c,s,prt_f, W)"
   ],
   "metadata": {
    "collapsed": false
   }
  }
 ],
 "metadata": {
  "kernelspec": {
   "display_name": "Python 3",
   "language": "python",
   "name": "python3"
  },
  "language_info": {
   "codemirror_mode": {
    "name": "ipython",
    "version": 2
   },
   "file_extension": ".py",
   "mimetype": "text/x-python",
   "name": "python",
   "nbconvert_exporter": "python",
   "pygments_lexer": "ipython2",
   "version": "2.7.6"
  }
 },
 "nbformat": 4,
 "nbformat_minor": 0
}
